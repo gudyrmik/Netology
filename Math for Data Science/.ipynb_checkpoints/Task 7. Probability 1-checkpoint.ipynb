{
 "cells": [
  {
   "cell_type": "code",
   "execution_count": null,
   "id": "acquired-investigation",
   "metadata": {},
   "outputs": [],
   "source": [
    "'''\n",
    "Домашнее задание \"Теория вероятности. Дискретные Случайные Величины\".\n",
    "Уровень 0:\n",
    "Задание 1:\n",
    "Монетку подбрасывают 15 раз, найдите вероятность выпадения простого числа орлов.\n",
    "'''"
   ]
  },
  {
   "cell_type": "code",
   "execution_count": null,
   "id": "exposed-induction",
   "metadata": {},
   "outputs": [],
   "source": [
    "'''\n",
    "Орлы могут выпасть A = (2, 3, 5, 7, 11, 13) раз (простые числа <= 15).\n",
    "Вероятность выпадения орла в каждом броске ровна 1/2, а режки (1 - 1/2).\n",
    "Вероятность выпадения 2х орлов из 15 бросков, Pa2, ровна \n",
    "'''"
   ]
  },
  {
   "cell_type": "code",
   "execution_count": null,
   "id": "balanced-command",
   "metadata": {},
   "outputs": [],
   "source": [
    "'''\n",
    "Задание 2:\n",
    "Создайте свою дискретную случайную величину с не менее, чем 10 значениями.\n",
    "Просемплируйте 1000 случайных значений, постройте гистограмму\n",
    "плотности распределения по выборке, посчитайте среднее, дисперсию и медиану.\n",
    "'''"
   ]
  },
  {
   "cell_type": "code",
   "execution_count": 7,
   "id": "organizational-leader",
   "metadata": {},
   "outputs": [],
   "source": [
    "import numpy as np\n",
    "import matplotlib.pyplot as plt"
   ]
  },
  {
   "cell_type": "code",
   "execution_count": 19,
   "id": "protective-naples",
   "metadata": {
    "scrolled": true
   },
   "outputs": [
    {
     "data": {
      "image/png": "[encoded data removed]",
      "text/plain": [
       "<Figure size 432x288 with 1 Axes>"
      ]
     },
     "metadata": {
      "needs_background": "light"
     },
     "output_type": "display_data"
    }
   ],
   "source": [
    "r = np.random.randint(1, 11, 1000)\n",
    "plt.hist(r, 20, density=True)\n",
    "plt.show()"
   ]
  },
  {
   "cell_type": "code",
   "execution_count": 33,
   "id": "incorporate-quantum",
   "metadata": {},
   "outputs": [
    {
     "name": "stdout",
     "output_type": "stream",
     "text": [
      "Мина: 5.494, медиана: 5.5, дисперсия: 2.9055058079446336\n"
     ]
    }
   ],
   "source": [
    "print(f'Мина: {np.mean(r)}, медиана: {np.median(r)}, дисперсия: {np.std(r)}')"
   ]
  }
 ],
 "metadata": {
  "kernelspec": {
   "display_name": "Python 3",
   "language": "python",
   "name": "python3"
  },
  "language_info": {
   "codemirror_mode": {
    "name": "ipython",
    "version": 3
   },
   "file_extension": ".py",
   "mimetype": "text/x-python",
   "name": "python",
   "nbconvert_exporter": "python",
   "pygments_lexer": "ipython3",
   "version": "3.8.5"
  }
 },
 "nbformat": 4,
 "nbformat_minor": 5
}
