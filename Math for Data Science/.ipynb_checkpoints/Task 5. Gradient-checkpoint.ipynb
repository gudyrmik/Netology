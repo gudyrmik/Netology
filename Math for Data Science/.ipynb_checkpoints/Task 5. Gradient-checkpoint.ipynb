{
 "cells": [
  {
   "cell_type": "code",
   "execution_count": 1,
   "metadata": {
    "scrolled": true
   },
   "outputs": [
    {
     "data": {
      "text/plain": [
       "'\\nУровень 0:\\nПосчитайте частные производные функций:\\n\\n1) f(x,y)=2x^2y^3 + 1/x + y^2x + 7, а для этой функции также градиент в точке (1,2)\\n\\n2) f(x,y)=x^2y - sin(xy) + cos(x^2) + 6y\\n'"
      ]
     },
     "execution_count": 1,
     "metadata": {},
     "output_type": "execute_result"
    }
   ],
   "source": [
    "'''\n",
    "Уровень 0:\n",
    "Посчитайте частные производные функций:\n",
    "\n",
    "1) f(x,y)=2x^2y^3 + 1/x + y^2x + 7, а для этой функции также градиент в точке (1,2)\n",
    "\n",
    "2) f(x,y)=x^2y - sin(xy) + cos(x^2) + 6y\n",
    "'''"
   ]
  },
  {
   "cell_type": "code",
   "execution_count": 27,
   "metadata": {},
   "outputs": [],
   "source": [
    "import numpy as np\n",
    "from scipy.optimize import approx_fprime\n",
    "import math\n",
    "from sympy import symbols, diff, sin, cos\n",
    "\n",
    "x, y = symbols('x y', real=True)"
   ]
  },
  {
   "cell_type": "code",
   "execution_count": 28,
   "metadata": {},
   "outputs": [
    {
     "name": "stdout",
     "output_type": "stream",
     "text": [
      "f1'(x): 4*x*y**3 + y**2 - 1/x**2\n",
      "f1'(y): 6*x**2*y**2 + 2*x*y\n",
      "f2'(x): 2*x*y - y*cos(x*y)\n",
      "f2'(y): x**2 - x*cos(x*y) - 2*y*sin(y**2) + 6\n"
     ]
    }
   ],
   "source": [
    "f1 = 2 * x ** 2 * y ** 3 + 1 / x + y ** 2 * x + 7\n",
    "print('f1\\'(x):', diff(f1, x))\n",
    "print('f1\\'(y):', diff(f1, y))\n",
    "\n",
    "f2 = x ** 2 * y - sin(x * y) + cos(y ** 2) + 6 * y\n",
    "print('f2\\'(x):', diff(f2, x))\n",
    "print('f2\\'(y):', diff(f2, y))"
   ]
  },
  {
   "cell_type": "code",
   "execution_count": 30,
   "metadata": {},
   "outputs": [
    {
     "name": "stdout",
     "output_type": "stream",
     "text": [
      "f1 grad at (1, 2): [35.00000024 28.00000024]\n"
     ]
    }
   ],
   "source": [
    "def func1(x):\n",
    "    t1 = 2 * x[0] ** 2 * x[1] ** 3\n",
    "    t2 = 1 / x[0] + x[1] ** 2 * x[0] + 7\n",
    "    return t1 + t2\n",
    "\n",
    "def func2(x, y):\n",
    "    return x[0] ** 2 * x[1] - math.sin(x[0] * x[1]) + math.cos(x[1] ** 2) + 6 * y\n",
    "\n",
    "eps = np.sqrt(np.finfo(float).eps)\n",
    "\n",
    "print('f1 grad at (1, 2):', approx_fprime([1, 2], func1, [eps, eps]))"
   ]
  },
  {
   "cell_type": "code",
   "execution_count": 13,
   "metadata": {},
   "outputs": [
    {
     "data": {
      "text/plain": [
       "array([35.00000024, 28.00000024])"
      ]
     },
     "execution_count": 13,
     "metadata": {},
     "output_type": "execute_result"
    }
   ],
   "source": [
    "approx_fprime([1, 2], f1, [eps, eps])"
   ]
  },
  {
   "cell_type": "code",
   "execution_count": null,
   "metadata": {},
   "outputs": [],
   "source": [
    "'''\n",
    "Уровень 1:\n",
    "Градиентный спуск своими руками:\n",
    "'''"
   ]
  },
  {
   "cell_type": "code",
   "execution_count": 34,
   "metadata": {},
   "outputs": [
    {
     "name": "stdout",
     "output_type": "stream",
     "text": [
      "Минимум достигается в:  [-6.44427149e-09 -6.44427149e-09]\n",
      "Значение функции в минимуме:  8.30572699872947e-17\n"
     ]
    }
   ],
   "source": [
    "n = 1000\n",
    "eps = np.sqrt(np.finfo(float).eps)\n",
    "x0 = [0, 0]\n",
    "step = 0.001\n",
    "\n",
    "def f(x):\n",
    "    return (x[0] ** 2) + (x[1] ** 2)\n",
    "\n",
    "x = x0\n",
    "for i in range(n):\n",
    "    # Calculate gradient\n",
    "    grad = approx_fprime(x, f, [eps, eps])\n",
    "    \n",
    "    # Update x with gradient\n",
    "    x = x - step * grad\n",
    "    \n",
    "print(\"Минимум достигается в: \", x)\n",
    "print(\"Значение функции в минимуме: \", f(x))"
   ]
  }
 ],
 "metadata": {
  "kernelspec": {
   "display_name": "Python 3",
   "language": "python",
   "name": "python3"
  },
  "language_info": {
   "codemirror_mode": {
    "name": "ipython",
    "version": 3
   },
   "file_extension": ".py",
   "mimetype": "text/x-python",
   "name": "python",
   "nbconvert_exporter": "python",
   "pygments_lexer": "ipython3",
   "version": "3.8.5"
  }
 },
 "nbformat": 4,
 "nbformat_minor": 4
}
