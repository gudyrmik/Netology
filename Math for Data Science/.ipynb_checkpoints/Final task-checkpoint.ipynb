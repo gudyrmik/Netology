{
 "cells": [
  {
   "cell_type": "code",
   "execution_count": null,
   "id": "animated-dodge",
   "metadata": {},
   "outputs": [],
   "source": [
    "'''\n",
    "Задание 1\n",
    "Дана матрица рейтингов фильмов (строки - пользователи (10 человек),\n",
    "столбцы - фильмы (15 фильмов))\n",
    "\n",
    "a) Необходимо найти наиболее похожего пользователя по косинусной метрике\n",
    "для каждого из (ответ: 10 пар вида (x, y), где y - наиболее похожий пользователь\n",
    "на пользователя x).\n",
    "'''"
   ]
  },
  {
   "cell_type": "code",
   "execution_count": 58,
   "id": "delayed-banking",
   "metadata": {},
   "outputs": [],
   "source": [
    "import matplotlib.pyplot as plt\n",
    "import numpy as np\n",
    "\n",
    "from scipy.optimize import minimize\n",
    "from sklearn.decomposition import PCA\n",
    "from sklearn.metrics.pairwise import cosine_similarity\n",
    "%matplotlib inline"
   ]
  },
  {
   "cell_type": "code",
   "execution_count": 38,
   "id": "through-explanation",
   "metadata": {},
   "outputs": [],
   "source": [
    "ratings = np.array([ [ 4,  4,  9,  4,  1,  6, 10,  7,  9,  6,  9,  2,  8,  6,  6],\n",
    "                     [ 9,  2,  5, 10,  7,  8, 10,  5,  6,  2,  1,  6,  8,  9,  7],\n",
    "                     [ 1,  6,  8,  8,  4,  9,  3,  8, 10,  5,  2,  6,  8,  1,  6],\n",
    "                     [ 6,  1,  9,  7,  7,  9,  2,  3,  5,  1,  6,  6,  3,  2,  7],\n",
    "                     [ 3,  7,  3,  5,  7,  9,  9,  6,  2,  9,  1,  2,  8, 10,  6],\n",
    "                     [ 8,  3,  7,  3,  8,  6,  1,  8,  8,  6,  1,  9,  4, 10,  1],\n",
    "                     [ 9,  8,  4,  8,  8, 10,  6,  1,  1,  2,  9,  5,  2,  7,  2],\n",
    "                     [ 4,  1,  6,  4,  3, 10,  4,  4,  2,  8,  7,  9,  3,  8,  3],\n",
    "                     [ 2,  7,  7,  6, 10,  6,  8,  9,  8,  6, 10,  1,  7, 10,  4],\n",
    "                     [ 5, 10,  8,  8,  9,  7,  2,  9,  9, 10,  8,  8,  8,  6, 10]])"
   ]
  },
  {
   "cell_type": "code",
   "execution_count": 44,
   "id": "racial-forum",
   "metadata": {},
   "outputs": [
    {
     "name": "stdout",
     "output_type": "stream",
     "text": [
      "['(0, 8): 0.9106598233573044', '(1, 4): 0.8713805223930228', '(2, 9): 0.9187305147356807', '(3, 9): 0.8588686958710949', '(4, 8): 0.8794847716076251', '(5, 9): 0.8551490764118892', '(6, 3): 0.8327421070557631', '(7, 5): 0.8445168512565342', '(8, 0): 0.9106598233573044', '(9, 2): 0.9187305147356807']\n"
     ]
    }
   ],
   "source": [
    "result = []\n",
    "for i in range(len(ratings)):\n",
    "    x = raitings[i].reshape(1, -1)\n",
    "    opt = -1.0\n",
    "    opt_j = -1\n",
    "    for j in range(len(ratings)):\n",
    "        if i == j:\n",
    "            continue\n",
    "       \n",
    "        y = raitings[j].reshape(1, -1)\n",
    "        cs = cosine_similarity(x, y)[0][0]\n",
    "        \n",
    "        if cs > opt:\n",
    "            opt = cs \n",
    "            opt_j = j\n",
    "    result.append(f'({i}, {opt_j}): {opt}')\n",
    "\n",
    "print(result)"
   ]
  },
  {
   "cell_type": "code",
   "execution_count": null,
   "id": "instrumental-problem",
   "metadata": {
    "scrolled": true
   },
   "outputs": [],
   "source": [
    "'''\n",
    "b) Предположим, вы захотели сжать признаковые описания пользователя с 15 фильмов,\n",
    "до, скажем, 5-ти признаков, как вы это сделаете?\n",
    "'''"
   ]
  },
  {
   "cell_type": "code",
   "execution_count": 68,
   "id": "primary-movement",
   "metadata": {},
   "outputs": [
    {
     "name": "stdout",
     "output_type": "stream",
     "text": [
      "Reduced ratings: [[-5.30986101  1.92919845 -4.93300027  2.70188013  5.50497886]\n",
      " [ 2.87763403  2.71659559  1.40592782  7.26325751 -4.50322291]\n",
      " [-4.94010408 -6.68861167 -0.94550184  3.61556661 -0.68969272]\n",
      " [ 5.14939908 -6.28027284 -4.65978558  1.09024004 -1.01471112]\n",
      " [-1.37488691  7.54357985  4.00834369  2.1284001  -0.16324949]\n",
      " [ 2.65341956 -3.77075601  8.58430748 -1.46628319  1.67401769]\n",
      " [ 8.61573944  3.78603335 -4.02721027 -4.37582577 -3.13880277]\n",
      " [ 5.39658258 -1.0170466   1.01456742 -1.89512837  6.54883538]\n",
      " [-5.7843488   5.29857107 -1.48083611 -3.71295542  0.21312695]\n",
      " [-7.2835739  -3.51729118  1.03318766 -5.34915166 -4.43127987]]\n"
     ]
    }
   ],
   "source": [
    "print(f'Reduced ratings: {PCA(n_components=5).fit_transform(ratings)}')"
   ]
  },
  {
   "cell_type": "code",
   "execution_count": null,
   "id": "governing-shoulder",
   "metadata": {},
   "outputs": [],
   "source": [
    "'''\n",
    "Задание 2\n",
    "Вычислите производную tg^2(sin(x) + cos(2x+3)) в точке x_0=1 (на python и на бумаге).\n",
    "'''"
   ]
  },
  {
   "cell_type": "code",
   "execution_count": 78,
   "id": "perceived-enlargement",
   "metadata": {},
   "outputs": [
    {
     "name": "stdout",
     "output_type": "stream",
     "text": [
      "f'(1): 55.3859176464222\n"
     ]
    }
   ],
   "source": [
    "from scipy.misc import derivative\n",
    "import math\n",
    "\n",
    "def f(x):\n",
    "    tmp = math.sin(x) + math.cos(2 * x + 3)\n",
    "    return math.tan(tmp) ** 2\n",
    "\n",
    "x = 1\n",
    "print(f'f\\'({x}):', derivative(f, x, n = 1, dx = 1e-6))"
   ]
  },
  {
   "cell_type": "code",
   "execution_count": 80,
   "id": "arctic-housing",
   "metadata": {},
   "outputs": [
    {
     "name": "stdout",
     "output_type": "stream",
     "text": [
      "f'(x): 2*(-2*sin(2*x + 3) + cos(x))*(tan(sin(x) + cos(2*x + 3))**2 + 1)*tan(sin(x) + cos(2*x + 3))\n"
     ]
    }
   ],
   "source": [
    "'''\n",
    "Сделаем вид что это бумага:)\n",
    "'''\n",
    "\n",
    "from sympy import symbols, diff, sin, cos, tan\n",
    "x = symbols('x', real=True)\n",
    "f = tan(sin(x) + cos(2 * x + 3)) ** 2\n",
    "print('f\\'(x):', diff(f, x))"
   ]
  },
  {
   "cell_type": "code",
   "execution_count": null,
   "id": "saved-official",
   "metadata": {},
   "outputs": [],
   "source": [
    "'''\n",
    "Задание 3\n",
    "Дана функция с неизвестными параметрами a и b, вам также известны значения функции fx\n",
    "в точках x. Найдите оптимальные параметры a, b, минимизирующие абсолютную ошибку error.\n",
    "'''"
   ]
  },
  {
   "cell_type": "code",
   "execution_count": 83,
   "id": "cardiac-collective",
   "metadata": {},
   "outputs": [
    {
     "data": {
      "image/png": "[encoded data removed]",
      "text/plain": [
       "<Figure size 432x288 with 1 Axes>"
      ]
     },
     "metadata": {
      "needs_background": "light"
     },
     "output_type": "display_data"
    }
   ],
   "source": [
    "from scipy.optimize import differential_evolution\n",
    "\n",
    "def f(x, a, b):\n",
    "    return np.e ** a * np.sin(b * x) + x\n",
    "\n",
    "x = np.array([0.        , 0.26315789, 0.52631579, 0.78947368, 1.05263158,\n",
    "              1.31578947, 1.57894737, 1.84210526, 2.10526316, 2.36842105,\n",
    "              2.63157895, 2.89473684, 3.15789474, 3.42105263, 3.68421053,\n",
    "              3.94736842, 4.21052632, 4.47368421, 4.73684211, 5.        ])\n",
    "\n",
    "fx = np.array([  0.        , -12.01819092, -18.90968634, -17.68786571,\n",
    "                -8.7529108 ,   4.27524517,  16.06801336,  21.81250213,\n",
    "                19.22059845,   9.48411207,  -3.22273056, -13.48576488,\n",
    "               -16.91096359, -11.95866834,  -0.58630088,  12.56873816,\n",
    "                22.12489421,  24.20292139,  18.04522521,   6.33211092])\n",
    "\n",
    "plt.plot(x, fx)\n",
    "plt.show()"
   ]
  },
  {
   "cell_type": "code",
   "execution_count": 97,
   "id": "moving-violin",
   "metadata": {},
   "outputs": [
    {
     "name": "stdout",
     "output_type": "stream",
     "text": [
      "a = 3.00, b = 69.13\n"
     ]
    }
   ],
   "source": [
    "def error(params):\n",
    "    return np.sum(np.abs(fx - f(x, params[0], params[1])))\n",
    "\n",
    "bounds = [(-300, 300), (-300, 300)]\n",
    "res = differential_evolution(error, bounds)\n",
    "\n",
    "print(f'a = {res.x[0]:.2f}, b = {res.x[1]:.2f}')"
   ]
  },
  {
   "cell_type": "code",
   "execution_count": null,
   "id": "continued-discipline",
   "metadata": {},
   "outputs": [],
   "source": [
    "'''\n",
    "Задание 4\n",
    "Создайте собственную дискретную случайную величину с 20 значениями.\n",
    "Сгенерируйте 1000 выборок размера 50. Посчитайте среднее для каждой выборки.\n",
    "Постройте гистограмму распределения средних.\n",
    "'''"
   ]
  },
  {
   "cell_type": "code",
   "execution_count": 109,
   "id": "desperate-roman",
   "metadata": {},
   "outputs": [
    {
     "data": {
      "image/png": "[encoded data removed]",
      "text/plain": [
       "<Figure size 432x288 with 1 Axes>"
      ]
     },
     "metadata": {
      "needs_background": "light"
     },
     "output_type": "display_data"
    }
   ],
   "source": [
    "means = []\n",
    "for i in range(50): means.append(np.random.randint(0, 19, 50).mean())\n",
    "plt.hist(means, 50)\n",
    "plt.show()"
   ]
  },
  {
   "cell_type": "code",
   "execution_count": null,
   "id": "pediatric-reporter",
   "metadata": {},
   "outputs": [],
   "source": [
    "'''\n",
    "Задание 5\n",
    "Найдите собственные значения и собственные вектора матрицы (на python и на бумаге):\n",
    "\n",
    "m = np.array([[1, 4],\n",
    "              [1, 1]])\n",
    "print(m)\n",
    "'''"
   ]
  },
  {
   "cell_type": "code",
   "execution_count": 111,
   "id": "scheduled-council",
   "metadata": {},
   "outputs": [
    {
     "name": "stdout",
     "output_type": "stream",
     "text": [
      "(array([ 3., -1.]), array([[ 0.89442719, -0.89442719],\n",
      "       [ 0.4472136 ,  0.4472136 ]]))\n"
     ]
    }
   ],
   "source": [
    "m = np.array([[1, 4],\n",
    "              [1, 1]])\n",
    "\n",
    "print(np.linalg.eig(m))"
   ]
  },
  {
   "cell_type": "code",
   "execution_count": null,
   "id": "digital-burton",
   "metadata": {},
   "outputs": [],
   "source": []
  }
 ],
 "metadata": {
  "kernelspec": {
   "display_name": "Python 3",
   "language": "python",
   "name": "python3"
  },
  "language_info": {
   "codemirror_mode": {
    "name": "ipython",
    "version": 3
   },
   "file_extension": ".py",
   "mimetype": "text/x-python",
   "name": "python",
   "nbconvert_exporter": "python",
   "pygments_lexer": "ipython3",
   "version": "3.8.5"
  }
 },
 "nbformat": 4,
 "nbformat_minor": 5
}
