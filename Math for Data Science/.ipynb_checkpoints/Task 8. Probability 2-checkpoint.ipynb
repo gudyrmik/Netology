{
 "cells": [
  {
   "cell_type": "code",
   "execution_count": null,
   "id": "shaped-property",
   "metadata": {},
   "outputs": [],
   "source": [
    "'''\n",
    "Домашнее задание \"Теория вероятности. Непрерывные Случайные Величины\".\n",
    "Уровень 0:\n",
    "Задание 1:\n",
    "Получить интуицию, на что влияют параметры распределений.\n",
    "Построить по 5 функций плотностей с разными параметрами для каждого распределения:\n",
    "нормальное, экспоненциальное, Стьюдента на одном графике.\n",
    "'''"
   ]
  },
  {
   "cell_type": "code",
   "execution_count": 3,
   "id": "passing-retro",
   "metadata": {},
   "outputs": [],
   "source": [
    "import numpy as np\n",
    "import matplotlib.pyplot as plt\n",
    "import scipy.stats as sts"
   ]
  },
  {
   "cell_type": "code",
   "execution_count": null,
   "id": "chubby-moment",
   "metadata": {},
   "outputs": [],
   "source": [
    "mus = [2, 3, 4, 5, 6]\n",
    "sigmas = [0.5, 0.6, 0.7, 0.8, 0.9]\n",
    "\n"
   ]
  }
 ],
 "metadata": {
  "kernelspec": {
   "display_name": "Python 3",
   "language": "python",
   "name": "python3"
  },
  "language_info": {
   "codemirror_mode": {
    "name": "ipython",
    "version": 3
   },
   "file_extension": ".py",
   "mimetype": "text/x-python",
   "name": "python",
   "nbconvert_exporter": "python",
   "pygments_lexer": "ipython3",
   "version": "3.8.5"
  }
 },
 "nbformat": 4,
 "nbformat_minor": 5
}
