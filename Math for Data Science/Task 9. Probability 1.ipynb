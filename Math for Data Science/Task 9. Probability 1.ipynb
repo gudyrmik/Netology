{
 "cells": [
  {
   "cell_type": "code",
   "execution_count": null,
   "id": "detailed-month",
   "metadata": {},
   "outputs": [],
   "source": [
    "'''\n",
    "Домашнее задание \"Теория вероятности. Дискретные Случайные Величины\".\n",
    "Уровень 0:\n",
    "Задание 1:\n",
    "Монетку подбрасывают 15 раз, найдите вероятность выпадения простого числа орлов.\n",
    "'''"
   ]
  },
  {
   "cell_type": "code",
   "execution_count": null,
   "id": "signed-transport",
   "metadata": {},
   "outputs": [],
   "source": [
    "'''\n",
    "Орлы могут выпасть A = (2, 3, 5, 7, 11, 13) раз (простые числа <= 15).\n",
    "Таких исходов 6, они равновероятны, a всего исходов 15,\n",
    "т.е. вероятность каждого исхода 1/15.\n",
    "Вероятность выпадения простого числа орлов: P(A) = 6/15\n",
    "'''"
   ]
  },
  {
   "cell_type": "code",
   "execution_count": null,
   "id": "revised-residence",
   "metadata": {},
   "outputs": [],
   "source": [
    "'''\n",
    "Задание 2:\n",
    "Создайте свою дискретную случайную величину с не менее, чем 10 значениями.\n",
    "Просемплируйте 1000 случайных значений, постройте гистограмму\n",
    "плотности распределения по выборке, посчитайте среднее, дисперсию и медиану.\n",
    "'''"
   ]
  },
  {
   "cell_type": "code",
   "execution_count": 7,
   "id": "quality-short",
   "metadata": {},
   "outputs": [],
   "source": [
    "import numpy as np\n",
    "import matplotlib.pyplot as plt"
   ]
  },
  {
   "cell_type": "code",
   "execution_count": null,
   "id": "adopted-absolute",
   "metadata": {},
   "outputs": [],
   "source": [
    "r = np.random.random(1000)\n",
    "plt.hist(r, 16, density=True,color='Green')\n",
    "plt.show()"
   ]
  },
  {
   "cell_type": "code",
   "execution_count": null,
   "id": "bridal-monitoring",
   "metadata": {},
   "outputs": [],
   "source": []
  }
 ],
 "metadata": {
  "kernelspec": {
   "display_name": "Python 3",
   "language": "python",
   "name": "python3"
  },
  "language_info": {
   "codemirror_mode": {
    "name": "ipython",
    "version": 3
   },
   "file_extension": ".py",
   "mimetype": "text/x-python",
   "name": "python",
   "nbconvert_exporter": "python",
   "pygments_lexer": "ipython3",
   "version": "3.8.5"
  }
 },
 "nbformat": 4,
 "nbformat_minor": 5
}
