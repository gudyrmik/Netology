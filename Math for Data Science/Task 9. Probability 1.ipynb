{
 "cells": [
  {
   "cell_type": "code",
   "execution_count": null,
   "id": "postal-storm",
   "metadata": {},
   "outputs": [],
   "source": [
    "'''\n",
    "Домашнее задание \"Теория вероятности. Дискретные Случайные Величины\".\n",
    "Уровень 0:\n",
    "Задание 1:\n",
    "Монетку подбрасывают 15 раз, найдите вероятность выпадения простого числа орлов.\n",
    "'''"
   ]
  },
  {
   "cell_type": "code",
   "execution_count": null,
   "id": "liked-duncan",
   "metadata": {},
   "outputs": [],
   "source": [
    "'''\n",
    "Орлы могут выпасть A = (2, 3, 5, 7, 11, 13) раз (простые числа <= 15).\n",
    "Таких исходов 6, они равновероятны, a всего исходов 15,\n",
    "т.е. вероятность каждого исхода 1/15.\n",
    "Вероятность выпадения простого числа орлов: P(A) = 6/15\n",
    "'''"
   ]
  },
  {
   "cell_type": "code",
   "execution_count": null,
   "id": "cubic-proposal",
   "metadata": {},
   "outputs": [],
   "source": [
    "'''\n",
    "Задание 2:\n",
    "Создайте свою дискретную случайную величину с не менее, чем 10 значениями.\n",
    "Просемплируйте 1000 случайных значений, постройте гистограмму\n",
    "плотности распределения по выборке, посчитайте среднее, дисперсию и медиану.\n",
    "'''"
   ]
  },
  {
   "cell_type": "code",
   "execution_count": 7,
   "id": "prostate-thumb",
   "metadata": {},
   "outputs": [],
   "source": [
    "import numpy as np\n",
    "import matplotlib.pyplot as plt"
   ]
  },
  {
   "cell_type": "code",
   "execution_count": 19,
   "id": "stunning-johnson",
   "metadata": {
    "scrolled": true
   },
   "outputs": [
    {
     "data": {
      "image/png": "[encoded data removed]",
      "text/plain": [
       "<Figure size 432x288 with 1 Axes>"
      ]
     },
     "metadata": {
      "needs_background": "light"
     },
     "output_type": "display_data"
    }
   ],
   "source": [
    "r = np.random.randint(1, 11, 1000)\n",
    "plt.hist(r, 20, density=True)\n",
    "plt.show()"
   ]
  },
  {
   "cell_type": "code",
   "execution_count": 14,
   "id": "positive-april",
   "metadata": {},
   "outputs": [
    {
     "data": {
      "text/plain": [
       "array([10,  6,  5,  1,  2,  9,  5,  8,  4, 10,  1, 10,  3,  4,  3,  3,  2,\n",
       "        9, 10,  8,  6, 10,  6,  4,  2,  5,  1,  5,  1,  6,  4,  3,  7,  3,\n",
       "        8,  5,  4,  2,  7,  6,  1,  3,  6, 10,  9,  7,  4,  5,  6,  4, 10,\n",
       "        6,  8,  5,  8,  2,  2,  1, 10,  6,  7,  8,  8,  7,  4,  3, 10,  8,\n",
       "        2,  5,  3,  9, 10,  2,  2,  7,  8,  1,  5,  9,  8,  9,  4,  5,  4,\n",
       "        3,  1,  9,  2,  6,  6,  7,  1,  5,  1,  1,  4,  5,  5,  4,  9,  8,\n",
       "        1,  4,  9,  2,  6,  1,  4,  5,  6,  5,  8,  3,  4,  3,  4, 10, 10,\n",
       "        9,  2,  8, 10,  1,  3,  9,  1,  4,  3,  3,  9,  8,  8,  7,  3,  6,\n",
       "        4,  8,  7,  3,  9,  9,  3,  4, 10, 10,  3,  8,  2,  7,  5,  3,  6,\n",
       "        3,  4, 10,  1,  6,  5,  4,  2,  1,  9,  2,  6,  3,  9,  6,  2,  4,\n",
       "        7,  3,  6,  5,  4,  5,  8,  9,  4,  8,  9, 10,  5,  8,  1,  1,  8,\n",
       "        9,  1,  3,  5, 10,  5, 10,  6,  3,  8,  6,  7,  7,  8,  1,  1,  2,\n",
       "        3,  7,  5,  5,  2,  2,  8,  7,  1,  4,  3,  4,  2,  1,  4,  8,  8,\n",
       "        6,  8,  6,  3,  8,  9,  7,  7,  4,  6,  1,  8,  2,  3,  8,  2,  2,\n",
       "        7,  7,  3,  7,  8,  3,  5,  8,  4, 10,  8,  7, 10,  6,  4,  1,  5,\n",
       "        7, 10,  5,  7,  1,  6,  7,  2,  6,  1,  5,  8,  8, 10,  4,  2,  4,\n",
       "        7,  2,  4,  6,  6,  5,  6,  2,  9,  2,  9,  7,  4,  2,  5, 10,  7,\n",
       "       10,  8,  9,  2,  7,  9,  1,  9,  8, 10,  8,  2,  3,  6,  1,  3, 10,\n",
       "        4,  6,  3, 10,  3,  2,  3,  1, 10,  5,  6,  9,  6,  4,  5,  4,  1,\n",
       "        8,  1,  2,  5,  9,  8, 10,  3,  7,  8,  8,  8,  7,  7,  7,  3, 10,\n",
       "        7,  9,  2,  7, 10,  5,  5,  9,  3,  2,  5,  1,  9, 10,  9,  6,  9,\n",
       "        4,  7, 10, 10,  1,  9,  9,  2,  1,  6,  2,  2,  4,  7,  4,  1, 10,\n",
       "        2,  5,  9,  6,  7,  7,  9,  2,  1,  2,  7,  8, 10,  6,  8,  5,  9,\n",
       "       10,  1,  3,  2,  4,  7,  3, 10,  3,  3,  1,  9,  5,  8,  7,  1,  9,\n",
       "        4,  6,  4,  3,  3,  5,  1,  8, 10,  2,  4,  8,  5,  1,  8, 10,  7,\n",
       "       10,  5,  1,  9, 10,  4,  7,  2,  8,  2,  2,  7,  1,  4,  5,  8,  6,\n",
       "        7,  6,  5,  5,  9,  8,  7,  5,  8,  3,  8,  5,  1,  6,  9,  7,  9,\n",
       "       10,  6,  4,  5,  7,  6,  8,  2,  5,  9,  1,  4,  3,  7,  3,  7,  4,\n",
       "        5,  2,  6,  5,  8,  5,  5, 10,  7,  3,  7,  6,  5,  3,  1,  7,  6,\n",
       "        4,  5,  9, 10,  5,  3,  6, 10,  7,  2, 10,  1,  2,  6,  2,  4,  9,\n",
       "        1,  8,  9,  8,  5,  6,  2,  1,  2, 10,  1,  8,  2,  2,  7,  6,  5,\n",
       "        6, 10,  9,  9,  2,  7,  8,  8, 10,  8, 10,  9,  3,  2,  6,  7,  3,\n",
       "        1,  2, 10,  1,  8,  5,  6,  8,  8,  4,  9, 10,  9,  6,  9,  3,  6,\n",
       "       10,  4,  2,  6,  1,  9,  4,  3,  6,  4, 10,  5,  1,  1,  4,  8,  7,\n",
       "        5,  7,  9,  8,  4,  1,  6,  9,  6,  3,  1,  3,  3,  3,  4,  3,  6,\n",
       "        3,  1,  3,  6,  1, 10, 10,  9,  1,  2,  8, 10,  7,  5,  1,  5,  8,\n",
       "        6,  3,  6,  2,  7,  9,  1,  9,  2,  4, 10, 10,  4, 10,  2,  3,  9,\n",
       "        9,  8,  5,  3,  2,  3,  1, 10,  7,  3,  7,  7,  8,  4,  3,  3,  7,\n",
       "        3,  1,  3,  4,  8,  2,  2,  5,  1,  6,  7, 10,  4, 10,  9,  5,  9,\n",
       "        1,  5,  6,  1,  5,  8,  8, 10,  9,  5,  9,  6,  9,  6,  9,  5,  2,\n",
       "        9,  9, 10,  9, 10,  5,  1,  9, 10,  4,  8,  5,  7, 10,  5,  4,  6,\n",
       "        9,  5,  5,  1,  4,  9,  1,  2, 10, 10,  4, 10,  7,  4,  9,  8,  4,\n",
       "        3,  2,  8,  6,  3,  4,  2,  9, 10,  2,  6, 10, 10,  8,  7,  7,  9,\n",
       "        7,  6, 10,  1,  4,  9, 10,  1,  7,  9,  4,  3, 10,  6,  1,  5,  3,\n",
       "       10,  9,  2, 10,  7, 10,  6,  8,  2,  7,  4,  6,  2,  8,  6,  4,  8,\n",
       "        2,  6,  2,  3,  6,  4,  7,  7,  5,  9,  5,  6,  3,  1,  6, 10, 10,\n",
       "        6,  8,  3,  7,  6, 10,  8,  2,  8,  3,  8,  2,  3,  7,  3,  1,  2,\n",
       "        3,  6,  5,  1,  7,  9,  5,  6,  2, 10, 10,  3,  2,  5,  1,  3,  3,\n",
       "        8,  2,  5, 10,  3,  3,  8,  9,  1, 10,  8,  5,  6,  7,  5,  6,  8,\n",
       "        9,  6,  3,  1,  3, 10, 10,  2,  7,  4,  2,  6,  3,  7,  4,  4, 10,\n",
       "        7, 10,  4,  9,  5,  3,  1,  4, 10,  3,  8,  2,  4,  1,  9,  4,  4,\n",
       "        2,  1,  6,  1,  8,  7,  5,  2,  6,  1,  6,  2,  8,  8,  2,  2,  9,\n",
       "        1,  1,  8,  8,  4,  5,  9,  1,  5,  4,  9, 10,  6,  4,  1,  8,  1,\n",
       "        1,  5,  2,  6,  4, 10,  8, 10,  6,  5,  3,  2,  6,  3,  1,  6,  8,\n",
       "        1,  7,  2,  4,  1,  9,  2,  7,  3,  5,  5,  7,  5,  8,  2,  5,  1,\n",
       "        4,  7,  5, 10,  8, 10,  7,  8,  4,  1,  4,  2,  2, 10,  1,  2,  5,\n",
       "        9,  2,  2,  7, 10,  8,  3,  3,  5, 10,  2,  9,  9,  1,  3,  7,  4,\n",
       "        3,  9,  1,  3,  7,  9,  6,  1,  9,  3,  3,  9,  5, 10,  8,  7, 10,\n",
       "        9,  4,  3,  4,  7,  3,  1,  8,  6,  4,  2,  9, 10,  5])"
      ]
     },
     "execution_count": 14,
     "metadata": {},
     "output_type": "execute_result"
    }
   ],
   "source": [
    "r"
   ]
  },
  {
   "cell_type": "code",
   "execution_count": null,
   "id": "cutting-contamination",
   "metadata": {},
   "outputs": [],
   "source": []
  }
 ],
 "metadata": {
  "kernelspec": {
   "display_name": "Python 3",
   "language": "python",
   "name": "python3"
  },
  "language_info": {
   "codemirror_mode": {
    "name": "ipython",
    "version": 3
   },
   "file_extension": ".py",
   "mimetype": "text/x-python",
   "name": "python",
   "nbconvert_exporter": "python",
   "pygments_lexer": "ipython3",
   "version": "3.8.5"
  }
 },
 "nbformat": 4,
 "nbformat_minor": 5
}
